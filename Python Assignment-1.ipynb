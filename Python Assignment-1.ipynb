{
 "cells": [
  {
   "cell_type": "code",
   "execution_count": 28,
   "metadata": {},
   "outputs": [
    {
     "name": "stdout",
     "output_type": "stream",
     "text": [
      "First Name:  Muhammad Yousuf\n",
      "Last Name:  Muhammad Hanif\n",
      "Date of Birth:  Feb 07, 1997\n",
      "Eductaion:  Bachelor In Commerce (B.com)\n",
      "Nationality:  Pakistani\n",
      "Religion:  Islam\n"
     ]
    }
   ],
   "source": [
    "FirstName = \"Muhammad Yousuf\"\n",
    "LastName = \"Muhammad Hanif\"\n",
    "DateofBirth = \"Feb 07, 1997\"\n",
    "Education = \"Bachelor In Commerce (B.com)\"\n",
    "Nationality = \"Pakistani\"\n",
    "Religion = \"Islam\"\n",
    "\n",
    "print( \"First Name: \",FirstName) \n",
    "print( \"Last Name: \",LastName) \n",
    "print( \"Date of Birth: \",DateofBirth) \n",
    "print( \"Eductaion: \",Education) \n",
    "print( \"Nationality: \",Nationality) \n",
    "print( \"Religion: \",Religion) \n"
   ]
  },
  {
   "cell_type": "code",
   "execution_count": null,
   "metadata": {},
   "outputs": [],
   "source": []
  },
  {
   "cell_type": "code",
   "execution_count": null,
   "metadata": {},
   "outputs": [],
   "source": []
  },
  {
   "cell_type": "code",
   "execution_count": null,
   "metadata": {},
   "outputs": [],
   "source": []
  },
  {
   "cell_type": "code",
   "execution_count": null,
   "metadata": {},
   "outputs": [],
   "source": []
  },
  {
   "cell_type": "code",
   "execution_count": null,
   "metadata": {},
   "outputs": [],
   "source": []
  }
 ],
 "metadata": {
  "kernelspec": {
   "display_name": "Python 3",
   "language": "python",
   "name": "python3"
  },
  "language_info": {
   "codemirror_mode": {
    "name": "ipython",
    "version": 3
   },
   "file_extension": ".py",
   "mimetype": "text/x-python",
   "name": "python",
   "nbconvert_exporter": "python",
   "pygments_lexer": "ipython3",
   "version": "3.7.4"
  }
 },
 "nbformat": 4,
 "nbformat_minor": 2
}
